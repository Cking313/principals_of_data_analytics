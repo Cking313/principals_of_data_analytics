{
 "cells": [
  {
   "cell_type": "markdown",
   "id": "7f040618",
   "metadata": {},
   "source": [
    "# Principals of Data Analytics Assessment\n",
    "### Author: Colleen King"
   ]
  },
  {
   "cell_type": "code",
   "execution_count": 19,
   "id": "32b75976",
   "metadata": {},
   "outputs": [
    {
     "data": {
      "text/html": [
       "<div>\n",
       "<style scoped>\n",
       "    .dataframe tbody tr th:only-of-type {\n",
       "        vertical-align: middle;\n",
       "    }\n",
       "\n",
       "    .dataframe tbody tr th {\n",
       "        vertical-align: top;\n",
       "    }\n",
       "\n",
       "    .dataframe thead th {\n",
       "        text-align: right;\n",
       "    }\n",
       "</style>\n",
       "<table border=\"1\" class=\"dataframe\">\n",
       "  <thead>\n",
       "    <tr style=\"text-align: right;\">\n",
       "      <th></th>\n",
       "      <th>species</th>\n",
       "      <th>island</th>\n",
       "      <th>bill_length_mm</th>\n",
       "      <th>bill_depth_mm</th>\n",
       "      <th>flipper_length_mm</th>\n",
       "      <th>body_mass_g</th>\n",
       "      <th>sex</th>\n",
       "    </tr>\n",
       "  </thead>\n",
       "  <tbody>\n",
       "    <tr>\n",
       "      <th>0</th>\n",
       "      <td>Adelie</td>\n",
       "      <td>Torgersen</td>\n",
       "      <td>39.1</td>\n",
       "      <td>18.7</td>\n",
       "      <td>181.0</td>\n",
       "      <td>3750.0</td>\n",
       "      <td>MALE</td>\n",
       "    </tr>\n",
       "    <tr>\n",
       "      <th>1</th>\n",
       "      <td>Adelie</td>\n",
       "      <td>Torgersen</td>\n",
       "      <td>39.5</td>\n",
       "      <td>17.4</td>\n",
       "      <td>186.0</td>\n",
       "      <td>3800.0</td>\n",
       "      <td>FEMALE</td>\n",
       "    </tr>\n",
       "    <tr>\n",
       "      <th>2</th>\n",
       "      <td>Adelie</td>\n",
       "      <td>Torgersen</td>\n",
       "      <td>40.3</td>\n",
       "      <td>18.0</td>\n",
       "      <td>195.0</td>\n",
       "      <td>3250.0</td>\n",
       "      <td>FEMALE</td>\n",
       "    </tr>\n",
       "    <tr>\n",
       "      <th>3</th>\n",
       "      <td>Adelie</td>\n",
       "      <td>Torgersen</td>\n",
       "      <td>NaN</td>\n",
       "      <td>NaN</td>\n",
       "      <td>NaN</td>\n",
       "      <td>NaN</td>\n",
       "      <td>NaN</td>\n",
       "    </tr>\n",
       "    <tr>\n",
       "      <th>4</th>\n",
       "      <td>Adelie</td>\n",
       "      <td>Torgersen</td>\n",
       "      <td>36.7</td>\n",
       "      <td>19.3</td>\n",
       "      <td>193.0</td>\n",
       "      <td>3450.0</td>\n",
       "      <td>FEMALE</td>\n",
       "    </tr>\n",
       "  </tbody>\n",
       "</table>\n",
       "</div>"
      ],
      "text/plain": [
       "  species     island  bill_length_mm  bill_depth_mm  flipper_length_mm  \\\n",
       "0  Adelie  Torgersen            39.1           18.7              181.0   \n",
       "1  Adelie  Torgersen            39.5           17.4              186.0   \n",
       "2  Adelie  Torgersen            40.3           18.0              195.0   \n",
       "3  Adelie  Torgersen             NaN            NaN                NaN   \n",
       "4  Adelie  Torgersen            36.7           19.3              193.0   \n",
       "\n",
       "   body_mass_g     sex  \n",
       "0       3750.0    MALE  \n",
       "1       3800.0  FEMALE  \n",
       "2       3250.0  FEMALE  \n",
       "3          NaN     NaN  \n",
       "4       3450.0  FEMALE  "
      ]
     },
     "execution_count": 19,
     "metadata": {},
     "output_type": "execute_result"
    }
   ],
   "source": [
    "import pandas as pd\n",
    "import numpy as np\n",
    "import matplotlib.pyplot as plt\n",
    "import seaborn as sns\n",
    "sns.set_style('darkgrid')\n",
    "\n",
    "df = pd.read_csv('data/penguins.csv')\n",
    "df.head()"
   ]
  },
  {
   "cell_type": "code",
   "execution_count": 2,
   "id": "20c7c55e",
   "metadata": {
    "scrolled": true
   },
   "outputs": [
    {
     "name": "stdout",
     "output_type": "stream",
     "text": [
      "Number of rows: 344\n",
      "Number of columns: 7\n"
     ]
    }
   ],
   "source": [
    "print(f'Number of rows: {len(df)}')\n",
    "print(f'Number of columns: {len(df.columns)}')"
   ]
  },
  {
   "cell_type": "code",
   "execution_count": 3,
   "id": "8146e190",
   "metadata": {},
   "outputs": [
    {
     "data": {
      "text/plain": [
       "['Chinstrap', 'Adelie', 'Gentoo']"
      ]
     },
     "execution_count": 3,
     "metadata": {},
     "output_type": "execute_result"
    }
   ],
   "source": [
    "list(set(df.species))"
   ]
  },
  {
   "cell_type": "markdown",
   "id": "195786e5",
   "metadata": {},
   "source": [
    "![](https://allisonhorst.github.io/palmerpenguins/reference/figures/lter_penguins.png)\n",
    "(Illustrations retrieved from https://allisonhorst.github.io/palmerpenguins/)"
   ]
  },
  {
   "cell_type": "code",
   "execution_count": 4,
   "id": "22eaee12",
   "metadata": {},
   "outputs": [
    {
     "data": {
      "text/plain": [
       "['Torgersen', 'Biscoe', 'Dream']"
      ]
     },
     "execution_count": 4,
     "metadata": {},
     "output_type": "execute_result"
    }
   ],
   "source": [
    "list(set(df.island))"
   ]
  },
  {
   "cell_type": "markdown",
   "id": "e0dff605",
   "metadata": {},
   "source": [
    "The Palmer penguin data contains 344 rows of data across 7 columns. This dataset contains physical measurements of penguins collected by researchers at the Palmer station in Antarctica.\n",
    "\n",
    "The variables found in the dataset are:\n",
    "\n",
    "- species: the species of penguin - the dataset contains 3; Chinstrap, Adelie, and Gentoo\n",
    "- island: the island where the measurement was obtained - the dataset contains 3; Torgersen, Biscoe, and Dream\n",
    "- bill_length_mm: the length of the penguin's bill measured in millimeters\n",
    "- bill_depth_mm: the depth of the penguin's bill measured in millimeters\n",
    "- flipper_length_mm: the length of the penguin's flipper measured in millimeters\n",
    "- body_mass_g: the body mass of the penguin measured in grams\n",
    "- sex: the sex of the penguin (M/F)\n",
    "\n",
    "---\n",
    "\n",
    "Measurements for bill length and depth can be more clearly understood with the following diagram, retrieved from https://allisonhorst.github.io/palmerpenguins/\n",
    "\n",
    "![](https://allisonhorst.github.io/palmerpenguins/reference/figures/culmen_depth.png)"
   ]
  },
  {
   "cell_type": "markdown",
   "id": "36abcba9",
   "metadata": {},
   "source": [
    "It can be seen from running df.head() that some of the rows contain missing values. There are 11 of these in total over the whole dataset, and these should be removed before any further analysis."
   ]
  },
  {
   "cell_type": "code",
   "execution_count": 8,
   "id": "2042c02f",
   "metadata": {},
   "outputs": [
    {
     "name": "stdout",
     "output_type": "stream",
     "text": [
      "Number of rows containing null values: 11\n"
     ]
    }
   ],
   "source": [
    "# https://saturncloud.io/blog/python-pandas-selecting-rows-whose-column-value-is-null-none-nan/\n",
    "print(f'Number of rows containing null values: {sum(df.isnull().any(axis=1))}')"
   ]
  },
  {
   "cell_type": "code",
   "execution_count": 20,
   "id": "60228ea5",
   "metadata": {
    "scrolled": true
   },
   "outputs": [
    {
     "name": "stdout",
     "output_type": "stream",
     "text": [
      "Number of rows: 333\n"
     ]
    },
    {
     "data": {
      "text/html": [
       "<div>\n",
       "<style scoped>\n",
       "    .dataframe tbody tr th:only-of-type {\n",
       "        vertical-align: middle;\n",
       "    }\n",
       "\n",
       "    .dataframe tbody tr th {\n",
       "        vertical-align: top;\n",
       "    }\n",
       "\n",
       "    .dataframe thead th {\n",
       "        text-align: right;\n",
       "    }\n",
       "</style>\n",
       "<table border=\"1\" class=\"dataframe\">\n",
       "  <thead>\n",
       "    <tr style=\"text-align: right;\">\n",
       "      <th></th>\n",
       "      <th>species</th>\n",
       "      <th>island</th>\n",
       "      <th>bill_length_mm</th>\n",
       "      <th>bill_depth_mm</th>\n",
       "      <th>flipper_length_mm</th>\n",
       "      <th>body_mass_g</th>\n",
       "      <th>sex</th>\n",
       "    </tr>\n",
       "  </thead>\n",
       "  <tbody>\n",
       "    <tr>\n",
       "      <th>0</th>\n",
       "      <td>Adelie</td>\n",
       "      <td>Torgersen</td>\n",
       "      <td>39.1</td>\n",
       "      <td>18.7</td>\n",
       "      <td>181.0</td>\n",
       "      <td>3750.0</td>\n",
       "      <td>MALE</td>\n",
       "    </tr>\n",
       "    <tr>\n",
       "      <th>1</th>\n",
       "      <td>Adelie</td>\n",
       "      <td>Torgersen</td>\n",
       "      <td>39.5</td>\n",
       "      <td>17.4</td>\n",
       "      <td>186.0</td>\n",
       "      <td>3800.0</td>\n",
       "      <td>FEMALE</td>\n",
       "    </tr>\n",
       "    <tr>\n",
       "      <th>2</th>\n",
       "      <td>Adelie</td>\n",
       "      <td>Torgersen</td>\n",
       "      <td>40.3</td>\n",
       "      <td>18.0</td>\n",
       "      <td>195.0</td>\n",
       "      <td>3250.0</td>\n",
       "      <td>FEMALE</td>\n",
       "    </tr>\n",
       "    <tr>\n",
       "      <th>4</th>\n",
       "      <td>Adelie</td>\n",
       "      <td>Torgersen</td>\n",
       "      <td>36.7</td>\n",
       "      <td>19.3</td>\n",
       "      <td>193.0</td>\n",
       "      <td>3450.0</td>\n",
       "      <td>FEMALE</td>\n",
       "    </tr>\n",
       "    <tr>\n",
       "      <th>5</th>\n",
       "      <td>Adelie</td>\n",
       "      <td>Torgersen</td>\n",
       "      <td>39.3</td>\n",
       "      <td>20.6</td>\n",
       "      <td>190.0</td>\n",
       "      <td>3650.0</td>\n",
       "      <td>MALE</td>\n",
       "    </tr>\n",
       "  </tbody>\n",
       "</table>\n",
       "</div>"
      ],
      "text/plain": [
       "  species     island  bill_length_mm  bill_depth_mm  flipper_length_mm  \\\n",
       "0  Adelie  Torgersen            39.1           18.7              181.0   \n",
       "1  Adelie  Torgersen            39.5           17.4              186.0   \n",
       "2  Adelie  Torgersen            40.3           18.0              195.0   \n",
       "4  Adelie  Torgersen            36.7           19.3              193.0   \n",
       "5  Adelie  Torgersen            39.3           20.6              190.0   \n",
       "\n",
       "   body_mass_g     sex  \n",
       "0       3750.0    MALE  \n",
       "1       3800.0  FEMALE  \n",
       "2       3250.0  FEMALE  \n",
       "4       3450.0  FEMALE  \n",
       "5       3650.0    MALE  "
      ]
     },
     "execution_count": 20,
     "metadata": {},
     "output_type": "execute_result"
    }
   ],
   "source": [
    "df = df[~df.isnull().any(axis=1)]\n",
    "print(f'Number of rows: {len(df)}')\n",
    "df.head()"
   ]
  },
  {
   "cell_type": "markdown",
   "id": "e64aa65a",
   "metadata": {},
   "source": [
    "---"
   ]
  },
  {
   "cell_type": "code",
   "execution_count": 13,
   "id": "5e28376f",
   "metadata": {},
   "outputs": [
    {
     "data": {
      "text/plain": [
       "species               object\n",
       "island                object\n",
       "bill_length_mm       float64\n",
       "bill_depth_mm        float64\n",
       "flipper_length_mm    float64\n",
       "body_mass_g          float64\n",
       "sex                   object\n",
       "dtype: object"
      ]
     },
     "execution_count": 13,
     "metadata": {},
     "output_type": "execute_result"
    }
   ],
   "source": [
    "df.dtypes"
   ]
  },
  {
   "cell_type": "markdown",
   "id": "5ce20b7a",
   "metadata": {},
   "source": [
    "The data is stored in a number of different types.\n",
    "\n",
    "Pandas stores the species, island, and sex as object type. This makes sense as these are all text data, so it should be stored as strings.\n",
    "An equivalent encoding could be used to store this data either, such as Adelie = 0, Gentoo = 1, etc. In this scenario these columns could be stored and processed as integers. In the case of sex, as there are only two values this column can take, a boolean encoding would be a valid representation of this data either.\n",
    "\n",
    "The bill length, bill depth, flipper length, and body mass are automatically treated as floats by pandas. This is sensible as these are all numeric data. For bill length and bill depth float is the natual datatype choice as their values have decimal points, however, flipper length and body mass are both reported in grams with 0s after the decimal point. These two columns could be treated as integers without any loss of information. It can be seen that for both of these columns, casting them to an int is equal to the default float representation.\n"
   ]
  },
  {
   "cell_type": "code",
   "execution_count": 18,
   "id": "1d7dba69",
   "metadata": {},
   "outputs": [
    {
     "name": "stdout",
     "output_type": "stream",
     "text": [
      "Integer body mass = float body mass: True\n",
      "Integer flipper length = float flipper length: True\n"
     ]
    }
   ],
   "source": [
    "# https://pandas.pydata.org/docs/reference/api/pandas.DataFrame.astype.html\n",
    "# check if changing the variables to integer makes them different from the float default\n",
    "body_mass_equal = all(df.astype({'body_mass_g': int})['body_mass_g'] == df['body_mass_g'])\n",
    "flipper_length_equal = all(df.astype({'flipper_length_mm': int})['flipper_length_mm'] == df['flipper_length_mm'])\n",
    "\n",
    "print(f'Integer body mass = float body mass: {body_mass_equal}')\n",
    "print(f'Integer flipper length = float flipper length: {flipper_length_equal}')"
   ]
  },
  {
   "cell_type": "markdown",
   "id": "d74e9b09",
   "metadata": {},
   "source": [
    "---\n",
    "\n",
    "By plotting certain columns we can learn more about the dataset - we can see how many measurements were on each island, how many measurements were taken of each species of penguin, and the distribution of measurements across the two sexes using barplots. This type of plot is appropriate for these categorical variables."
   ]
  },
  {
   "cell_type": "code",
   "execution_count": 29,
   "id": "f9926738",
   "metadata": {},
   "outputs": [
    {
     "data": {
      "image/png": "[encoded data removed]",
      "text/plain": [
       "<Figure size 1000x600 with 1 Axes>"
      ]
     },
     "metadata": {},
     "output_type": "display_data"
    }
   ],
   "source": [
    "plt.figure(figsize=(10,6))\n",
    "sns.countplot(data=df, x='species')\n",
    "plt.title('Measurements per Species of Penguin')\n",
    "plt.ylabel('N')\n",
    "plt.xlabel('Species')\n",
    "plt.tight_layout()\n",
    "plt.show()"
   ]
  },
  {
   "cell_type": "code",
   "execution_count": 30,
   "id": "2f53d31a",
   "metadata": {
    "scrolled": false
   },
   "outputs": [
    {
     "data": {
      "image/png": "[encoded data removed]",
      "text/plain": [
       "<Figure size 1000x600 with 1 Axes>"
      ]
     },
     "metadata": {},
     "output_type": "display_data"
    }
   ],
   "source": [
    "plt.figure(figsize=(10,6))\n",
    "sns.countplot(data=df, x='island')\n",
    "plt.title('Measurements per Island')\n",
    "plt.ylabel('N')\n",
    "plt.xlabel('Island')\n",
    "plt.tight_layout()\n",
    "plt.show()"
   ]
  },
  {
   "cell_type": "code",
   "execution_count": 35,
   "id": "1e23307a",
   "metadata": {},
   "outputs": [
    {
     "data": {
      "image/png": "[encoded data removed]",
      "text/plain": [
       "<Figure size 1000x600 with 1 Axes>"
      ]
     },
     "metadata": {},
     "output_type": "display_data"
    }
   ],
   "source": [
    "plt.figure(figsize=(10,6))\n",
    "sns.countplot(data=df, x='sex')\n",
    "plt.title('Sex Distribution')\n",
    "plt.ylabel('N')\n",
    "plt.xlabel('Sex')\n",
    "plt.tight_layout()\n",
    "plt.show()"
   ]
  },
  {
   "cell_type": "markdown",
   "id": "c3f837c6",
   "metadata": {},
   "source": [
    "From the above charts, it can be seen that the most commonly measured species of penguin was Adelie, followed by Gentoo, and the least represented species was Chinstrap.\n",
    "\n",
    "Most measurements occurred on Biscoe, followed by Dream, and finally Torgersen.\n",
    "\n",
    "Also, the split by sex is roughly equal between male and female.\n",
    "\n",
    "---"
   ]
  },
  {
   "cell_type": "markdown",
   "id": "c10dcec0",
   "metadata": {},
   "source": [
    "Using histograms, we can analyse the numeric columns to learn more about how their values are distributed.\n",
    "\n",
    "A plot of the distribution of bill length shows that the lenghts fall within a range of 3-6 cm, with most bills having a length between 3.5 and 5.5 cm."
   ]
  },
  {
   "cell_type": "code",
   "execution_count": 37,
   "id": "13c9d3b1",
   "metadata": {
    "scrolled": false
   },
   "outputs": [
    {
     "data": {
      "image/png": "[encoded data removed]",
      "text/plain": [
       "<Figure size 1000x600 with 1 Axes>"
      ]
     },
     "metadata": {},
     "output_type": "display_data"
    }
   ],
   "source": [
    "plt.figure(figsize=(10,6))\n",
    "sns.histplot(data=df, x='bill_length_mm')\n",
    "plt.show()"
   ]
  },
  {
   "cell_type": "markdown",
   "id": "ff89abf2",
   "metadata": {},
   "source": [
    "The average length of the bill is dependent on the species in question however. By colouring each distribution by the species, we can see that Adelie penguins have a shorter bill on average than Chinstraps or Gentoos."
   ]
  },
  {
   "cell_type": "code",
   "execution_count": 38,
   "id": "1aaad8c3",
   "metadata": {},
   "outputs": [
    {
     "data": {
      "image/png": "[encoded data removed]",
      "text/plain": [
       "<Figure size 1000x600 with 1 Axes>"
      ]
     },
     "metadata": {},
     "output_type": "display_data"
    }
   ],
   "source": [
    "plt.figure(figsize=(10,6))\n",
    "sns.histplot(data=df, x='bill_length_mm', hue='species')\n",
    "plt.title('Bill Length Distribution by species')\n",
    "plt.ylabel('N')\n",
    "plt.xlabel('Species')\n",
    "plt.tight_layout()\n",
    "plt.show()"
   ]
  },
  {
   "cell_type": "markdown",
   "id": "616e6475",
   "metadata": {},
   "source": [
    "Similarly, we can se the species differences in bill depth - Gentoo penguins have on average shallower bills (14.99mm on average) than Adelies or Chinstraps, who have typical bill depths of between 17 and 20 mm (averages of 18.35mm and 18.42mm respectively)."
   ]
  },
  {
   "cell_type": "code",
   "execution_count": 41,
   "id": "0e3f757a",
   "metadata": {},
   "outputs": [
    {
     "data": {
      "text/html": [
       "<div>\n",
       "<style scoped>\n",
       "    .dataframe tbody tr th:only-of-type {\n",
       "        vertical-align: middle;\n",
       "    }\n",
       "\n",
       "    .dataframe tbody tr th {\n",
       "        vertical-align: top;\n",
       "    }\n",
       "\n",
       "    .dataframe thead th {\n",
       "        text-align: right;\n",
       "    }\n",
       "</style>\n",
       "<table border=\"1\" class=\"dataframe\">\n",
       "  <thead>\n",
       "    <tr style=\"text-align: right;\">\n",
       "      <th></th>\n",
       "      <th>bill_depth_mm</th>\n",
       "      <th>bill_length_mm</th>\n",
       "    </tr>\n",
       "    <tr>\n",
       "      <th>species</th>\n",
       "      <th></th>\n",
       "      <th></th>\n",
       "    </tr>\n",
       "  </thead>\n",
       "  <tbody>\n",
       "    <tr>\n",
       "      <th>Adelie</th>\n",
       "      <td>18.347260</td>\n",
       "      <td>38.823973</td>\n",
       "    </tr>\n",
       "    <tr>\n",
       "      <th>Chinstrap</th>\n",
       "      <td>18.420588</td>\n",
       "      <td>48.833824</td>\n",
       "    </tr>\n",
       "    <tr>\n",
       "      <th>Gentoo</th>\n",
       "      <td>14.996639</td>\n",
       "      <td>47.568067</td>\n",
       "    </tr>\n",
       "  </tbody>\n",
       "</table>\n",
       "</div>"
      ],
      "text/plain": [
       "           bill_depth_mm  bill_length_mm\n",
       "species                                 \n",
       "Adelie         18.347260       38.823973\n",
       "Chinstrap      18.420588       48.833824\n",
       "Gentoo         14.996639       47.568067"
      ]
     },
     "execution_count": 41,
     "metadata": {},
     "output_type": "execute_result"
    }
   ],
   "source": [
    "df.groupby('species')[['bill_depth_mm', 'bill_length_mm']].agg(np.mean)"
   ]
  },
  {
   "cell_type": "code",
   "execution_count": 39,
   "id": "0f8e8073",
   "metadata": {},
   "outputs": [
    {
     "data": {
      "image/png": "[encoded data removed]",
      "text/plain": [
       "<Figure size 1000x600 with 1 Axes>"
      ]
     },
     "metadata": {},
     "output_type": "display_data"
    }
   ],
   "source": [
    "plt.figure(figsize=(10,6))\n",
    "sns.histplot(data=df, x='bill_depth_mm', hue='species')\n",
    "plt.show()"
   ]
  },
  {
   "cell_type": "markdown",
   "id": "7a146f74",
   "metadata": {},
   "source": [
    "## References:\n",
    "- https://pandas.pydata.org/\n",
    "- https://allisonhorst.github.io/palmerpenguins/\n",
    "- https://stackoverflow.com/questions/7225900/how-can-i-install-packages-using-pip-according-to-the-requirements-txt-file-from\n",
    "- https://saturncloud.io/blog/python-pandas-selecting-rows-whose-column-value-is-null-none-nan/\n",
    "- https://pandas.pydata.org/docs/reference/api/pandas.DataFrame.astype.html\n",
    "- https://seaborn.pydata.org/generated/seaborn.barplot.html\n",
    "- https://seaborn.pydata.org/generated/seaborn.set_style.html\n"
   ]
  },
  {
   "cell_type": "code",
   "execution_count": null,
   "id": "3926d0d7",
   "metadata": {},
   "outputs": [],
   "source": []
  }
 ],
 "metadata": {
  "kernelspec": {
   "display_name": "Python 3 (ipykernel)",
   "language": "python",
   "name": "python3"
  },
  "language_info": {
   "codemirror_mode": {
    "name": "ipython",
    "version": 3
   },
   "file_extension": ".py",
   "mimetype": "text/x-python",
   "name": "python",
   "nbconvert_exporter": "python",
   "pygments_lexer": "ipython3",
   "version": "3.11.5"
  }
 },
 "nbformat": 4,
 "nbformat_minor": 5
}
